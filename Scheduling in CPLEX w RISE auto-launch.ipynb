{
 "cells": [
  {
   "cell_type": "code",
   "execution_count": 1,
   "metadata": {
    "slideshow": {
     "slide_type": "skip"
    }
   },
   "outputs": [
    {
     "data": {
      "text/plain": [
       "{'theme': 'sky', 'transition': 'zoom', 'start_slideshow_at': 'selected'}"
      ]
     },
     "execution_count": 1,
     "metadata": {},
     "output_type": "execute_result"
    }
   ],
   "source": [
    "#slideshow config for RISE slideshow https://rise.readthedocs.io/en/maint-5.5/customize.html#how-to-customize\n",
    "\n",
    "#!/usr/bin/env python3\n",
    "from traitlets.config.manager import BaseJSONConfigManager\n",
    "from pathlib import Path\n",
    "path = Path.home() / \".jupyter\" / \"nbconfig\"\n",
    "cm = BaseJSONConfigManager(config_dir=str(path))\n",
    "cm.update(\n",
    "    \"rise\",\n",
    "    {\n",
    "        \"theme\": \"sky\",\n",
    "        \"transition\": \"zoom\",\n",
    "        \"start_slideshow_at\": \"beginning\",\n",
    "        \"autolaunch\": true\n",
    "     }\n",
    ")"
   ]
  },
  {
   "cell_type": "code",
   "execution_count": null,
   "metadata": {
    "slideshow": {
     "slide_type": "skip"
    }
   },
   "outputs": [
    {
     "name": "stdout",
     "output_type": "stream",
     "text": [
      "Collecting jupyter_contrib_nbextensions\n",
      "  Downloading https://files.pythonhosted.org/packages/33/f0/6e2c00afda860f655fbf0f795f7310bdbf12122846344dfdc803fc7455d5/jupyter_contrib_nbextensions-0.5.1-py2.py3-none-any.whl (20.9MB)\n",
      "Requirement already satisfied: jupyter-core in c:\\users\\pairviewuser\\appdata\\local\\programs\\python\\python37\\lib\\site-packages (from jupyter_contrib_nbextensions) (4.5.0)\n",
      "Collecting jupyter-contrib-core>=0.3.3 (from jupyter_contrib_nbextensions)\n",
      "  Downloading https://files.pythonhosted.org/packages/e6/8f/04a752a8b66a66e7092c035e5d87d2502ac7ec07f9fb6059059b6c0dc272/jupyter_contrib_core-0.3.3-py2.py3-none-any.whl\n",
      "Requirement already satisfied: lxml in c:\\users\\pairviewuser\\appdata\\local\\programs\\python\\python37\\lib\\site-packages (from jupyter_contrib_nbextensions) (4.4.0)\n",
      "Collecting jupyter-highlight-selected-word>=0.1.1 (from jupyter_contrib_nbextensions)\n",
      "  Downloading https://files.pythonhosted.org/packages/50/d7/19ab7cfd60bf268d2abbacc52d4295a40f52d74dfc0d938e4761ee5e598b/jupyter_highlight_selected_word-0.2.0-py2.py3-none-any.whl\n",
      "Requirement already satisfied: pyyaml in c:\\users\\pairviewuser\\appdata\\local\\programs\\python\\python37\\lib\\site-packages (from jupyter_contrib_nbextensions) (5.1.1)\n",
      "Requirement already satisfied: traitlets>=4.1 in c:\\users\\pairviewuser\\appdata\\local\\programs\\python\\python37\\lib\\site-packages (from jupyter_contrib_nbextensions) (4.3.2)\n",
      "Collecting jupyter-nbextensions-configurator>=0.4.0 (from jupyter_contrib_nbextensions)\n",
      "  Downloading https://files.pythonhosted.org/packages/51/a3/d72d5f2dc10c5ccf5a6f4c79f636bf071a5ce462dedd07af2f70384db6cb/jupyter_nbextensions_configurator-0.4.1.tar.gz (479kB)\n",
      "Requirement already satisfied: nbconvert>=4.2 in c:\\users\\pairviewuser\\appdata\\local\\programs\\python\\python37\\lib\\site-packages (from jupyter_contrib_nbextensions) (5.6.0)\n",
      "Collecting jupyter-latex-envs>=1.3.8 (from jupyter_contrib_nbextensions)\n",
      "  Downloading https://files.pythonhosted.org/packages/0e/15/55805de080d5542f76920364635e96e64d3b37f678befdfe3b16aa154205/jupyter_latex_envs-1.4.6.tar.gz (861kB)\n",
      "Requirement already satisfied: ipython-genutils in c:\\users\\pairviewuser\\appdata\\local\\programs\\python\\python37\\lib\\site-packages (from jupyter_contrib_nbextensions) (0.2.0)\n",
      "Requirement already satisfied: tornado in c:\\users\\pairviewuser\\appdata\\local\\programs\\python\\python37\\lib\\site-packages (from jupyter_contrib_nbextensions) (6.0.3)\n",
      "Collecting notebook>=4.0 (from jupyter_contrib_nbextensions)\n",
      "  Using cached https://files.pythonhosted.org/packages/f3/a1/1e07cedcb554408fefe4a7d32b2a041c86517167aec6ca8251c808ef6c1e/notebook-6.0.1-py3-none-any.whl\n",
      "Requirement already satisfied: setuptools in c:\\users\\pairviewuser\\appdata\\local\\programs\\python\\python37\\lib\\site-packages (from jupyter-contrib-core>=0.3.3->jupyter_contrib_nbextensions) (41.0.1)\n",
      "Requirement already satisfied: six in c:\\users\\pairviewuser\\appdata\\local\\programs\\python\\python37\\lib\\site-packages (from traitlets>=4.1->jupyter_contrib_nbextensions) (1.12.0)\n",
      "Requirement already satisfied: decorator in c:\\users\\pairviewuser\\appdata\\local\\programs\\python\\python37\\lib\\site-packages (from traitlets>=4.1->jupyter_contrib_nbextensions) (4.4.0)\n",
      "Requirement already satisfied: testpath in c:\\users\\pairviewuser\\appdata\\local\\programs\\python\\python37\\lib\\site-packages (from nbconvert>=4.2->jupyter_contrib_nbextensions) (0.4.2)\n",
      "Requirement already satisfied: jinja2>=2.4 in c:\\users\\pairviewuser\\appdata\\local\\programs\\python\\python37\\lib\\site-packages (from nbconvert>=4.2->jupyter_contrib_nbextensions) (2.10.1)\n",
      "Requirement already satisfied: mistune<2,>=0.8.1 in c:\\users\\pairviewuser\\appdata\\local\\programs\\python\\python37\\lib\\site-packages (from nbconvert>=4.2->jupyter_contrib_nbextensions) (0.8.4)\n",
      "Requirement already satisfied: nbformat>=4.4 in c:\\users\\pairviewuser\\appdata\\local\\programs\\python\\python37\\lib\\site-packages (from nbconvert>=4.2->jupyter_contrib_nbextensions) (4.4.0)\n",
      "Requirement already satisfied: defusedxml in c:\\users\\pairviewuser\\appdata\\local\\programs\\python\\python37\\lib\\site-packages (from nbconvert>=4.2->jupyter_contrib_nbextensions) (0.6.0)\n",
      "Requirement already satisfied: pygments in c:\\users\\pairviewuser\\appdata\\local\\programs\\python\\python37\\lib\\site-packages (from nbconvert>=4.2->jupyter_contrib_nbextensions) (2.4.2)\n",
      "Requirement already satisfied: bleach in c:\\users\\pairviewuser\\appdata\\local\\programs\\python\\python37\\lib\\site-packages (from nbconvert>=4.2->jupyter_contrib_nbextensions) (3.1.0)\n",
      "Requirement already satisfied: entrypoints>=0.2.2 in c:\\users\\pairviewuser\\appdata\\local\\programs\\python\\python37\\lib\\site-packages (from nbconvert>=4.2->jupyter_contrib_nbextensions) (0.3)\n",
      "Requirement already satisfied: pandocfilters>=1.4.1 in c:\\users\\pairviewuser\\appdata\\local\\programs\\python\\python37\\lib\\site-packages (from nbconvert>=4.2->jupyter_contrib_nbextensions) (1.4.2)\n",
      "Collecting ipython (from jupyter-latex-envs>=1.3.8->jupyter_contrib_nbextensions)\n",
      "  Downloading https://files.pythonhosted.org/packages/81/2e/59cdacea6476a4c21b7c090a91250ffbcd085900f5eb9f4e4d68dd2ee4e3/ipython-7.9.0-py3-none-any.whl (775kB)\n",
      "Collecting Send2Trash (from notebook>=4.0->jupyter_contrib_nbextensions)\n",
      "  Downloading https://files.pythonhosted.org/packages/49/46/c3dc27481d1cc57b9385aff41c474ceb7714f7935b1247194adae45db714/Send2Trash-1.5.0-py3-none-any.whl\n",
      "Collecting ipykernel (from notebook>=4.0->jupyter_contrib_nbextensions)\n",
      "  Downloading https://files.pythonhosted.org/packages/e1/92/8fec943b5b81078399f969f00557804d884c96fcd0bc296e81a2ed4fd270/ipykernel-5.1.3-py3-none-any.whl (116kB)\n",
      "Collecting prometheus-client (from notebook>=4.0->jupyter_contrib_nbextensions)\n",
      "  Downloading https://files.pythonhosted.org/packages/b3/23/41a5a24b502d35a4ad50a5bb7202a5e1d9a0364d0c12f56db3dbf7aca76d/prometheus_client-0.7.1.tar.gz\n",
      "Requirement already satisfied: jupyter-client>=5.3.1 in c:\\users\\pairviewuser\\appdata\\local\\programs\\python\\python37\\lib\\site-packages (from notebook>=4.0->jupyter_contrib_nbextensions) (5.3.3)\n",
      "Collecting terminado>=0.8.1 (from notebook>=4.0->jupyter_contrib_nbextensions)\n",
      "  Downloading https://files.pythonhosted.org/packages/a7/56/80ea7fa66565fa75ae21ce0c16bc90067530e5d15e48854afcc86585a391/terminado-0.8.2-py2.py3-none-any.whl\n",
      "Requirement already satisfied: pyzmq>=17 in c:\\users\\pairviewuser\\appdata\\local\\programs\\python\\python37\\lib\\site-packages (from notebook>=4.0->jupyter_contrib_nbextensions) (18.1.0)\n",
      "Requirement already satisfied: MarkupSafe>=0.23 in c:\\users\\pairviewuser\\appdata\\local\\programs\\python\\python37\\lib\\site-packages (from jinja2>=2.4->nbconvert>=4.2->jupyter_contrib_nbextensions) (1.1.1)\n",
      "Requirement already satisfied: jsonschema!=2.5.0,>=2.4 in c:\\users\\pairviewuser\\appdata\\local\\programs\\python\\python37\\lib\\site-packages (from nbformat>=4.4->nbconvert>=4.2->jupyter_contrib_nbextensions) (3.0.1)\n",
      "Requirement already satisfied: webencodings in c:\\users\\pairviewuser\\appdata\\local\\programs\\python\\python37\\lib\\site-packages (from bleach->nbconvert>=4.2->jupyter_contrib_nbextensions) (0.5.1)\n",
      "Requirement already satisfied: colorama; sys_platform == \"win32\" in c:\\users\\pairviewuser\\appdata\\local\\programs\\python\\python37\\lib\\site-packages (from ipython->jupyter-latex-envs>=1.3.8->jupyter_contrib_nbextensions) (0.4.1)\n",
      "Collecting prompt-toolkit<2.1.0,>=2.0.0 (from ipython->jupyter-latex-envs>=1.3.8->jupyter_contrib_nbextensions)\n",
      "  Downloading https://files.pythonhosted.org/packages/87/61/2dfea88583d5454e3a64f9308a686071d58d59a55db638268a6413e1eb6d/prompt_toolkit-2.0.10-py3-none-any.whl (340kB)\n",
      "Collecting pickleshare (from ipython->jupyter-latex-envs>=1.3.8->jupyter_contrib_nbextensions)\n",
      "  Downloading https://files.pythonhosted.org/packages/9a/41/220f49aaea88bc6fa6cba8d05ecf24676326156c23b991e80b3f2fc24c77/pickleshare-0.7.5-py2.py3-none-any.whl\n",
      "Collecting jedi>=0.10 (from ipython->jupyter-latex-envs>=1.3.8->jupyter_contrib_nbextensions)\n",
      "  Downloading https://files.pythonhosted.org/packages/55/54/da994f359e4e7da4776a200e76dbc85ba5fc319eefc22e33d55296d95a1d/jedi-0.15.1-py2.py3-none-any.whl (1.0MB)\n",
      "Collecting backcall (from ipython->jupyter-latex-envs>=1.3.8->jupyter_contrib_nbextensions)\n",
      "  Downloading https://files.pythonhosted.org/packages/84/71/c8ca4f5bb1e08401b916c68003acf0a0655df935d74d93bf3f3364b310e0/backcall-0.1.0.tar.gz\n",
      "Requirement already satisfied: pywin32>=1.0; sys_platform == \"win32\" in c:\\users\\pairviewuser\\appdata\\local\\programs\\python\\python37\\lib\\site-packages (from jupyter-client>=5.3.1->notebook>=4.0->jupyter_contrib_nbextensions) (225)\n",
      "Requirement already satisfied: python-dateutil>=2.1 in c:\\users\\pairviewuser\\appdata\\local\\programs\\python\\python37\\lib\\site-packages (from jupyter-client>=5.3.1->notebook>=4.0->jupyter_contrib_nbextensions) (2.8.0)\n",
      "Collecting pywinpty>=0.5; os_name == \"nt\" (from terminado>=0.8.1->notebook>=4.0->jupyter_contrib_nbextensions)\n",
      "  Downloading https://files.pythonhosted.org/packages/33/3e/f1329fca2fad22ceb40f4fb971149688ca98d95fa7b73f26403656ae477b/pywinpty-0.5.5-cp37-cp37m-win_amd64.whl (1.3MB)\n",
      "Requirement already satisfied: pyrsistent>=0.14.0 in c:\\users\\pairviewuser\\appdata\\local\\programs\\python\\python37\\lib\\site-packages (from jsonschema!=2.5.0,>=2.4->nbformat>=4.4->nbconvert>=4.2->jupyter_contrib_nbextensions) (0.15.2)\n",
      "Requirement already satisfied: attrs>=17.4.0 in c:\\users\\pairviewuser\\appdata\\local\\programs\\python\\python37\\lib\\site-packages (from jsonschema!=2.5.0,>=2.4->nbformat>=4.4->nbconvert>=4.2->jupyter_contrib_nbextensions) (19.1.0)\n",
      "Requirement already satisfied: wcwidth in c:\\users\\pairviewuser\\appdata\\local\\programs\\python\\python37\\lib\\site-packages (from prompt-toolkit<2.1.0,>=2.0.0->ipython->jupyter-latex-envs>=1.3.8->jupyter_contrib_nbextensions) (0.1.7)\n",
      "Collecting parso>=0.5.0 (from jedi>=0.10->ipython->jupyter-latex-envs>=1.3.8->jupyter_contrib_nbextensions)\n",
      "  Downloading https://files.pythonhosted.org/packages/a3/bd/bf4e5bd01d79906e5b945a7af033154da49fd2b0d5b5c705a21330323305/parso-0.5.1-py2.py3-none-any.whl (95kB)\n",
      "Building wheels for collected packages: jupyter-nbextensions-configurator, jupyter-latex-envs, prometheus-client, backcall\n",
      "  Building wheel for jupyter-nbextensions-configurator (setup.py): started\n",
      "  Building wheel for jupyter-nbextensions-configurator (setup.py): finished with status 'done'\n",
      "  Stored in directory: C:\\Users\\PairviewUser\\AppData\\Local\\pip\\Cache\\wheels\\15\\df\\fe\\2a74fe34709e7fdc5ae153a768675d9fda93cc7d5133ed1fb0\n",
      "  Building wheel for jupyter-latex-envs (setup.py): started\n",
      "  Building wheel for jupyter-latex-envs (setup.py): finished with status 'done'\n",
      "  Stored in directory: C:\\Users\\PairviewUser\\AppData\\Local\\pip\\Cache\\wheels\\0d\\71\\2a\\164491997299b9f2479a251e254323fe35d946779e18f27956\n",
      "  Building wheel for prometheus-client (setup.py): started\n",
      "  Building wheel for prometheus-client (setup.py): finished with status 'done'\n",
      "  Stored in directory: C:\\Users\\PairviewUser\\AppData\\Local\\pip\\Cache\\wheels\\1c\\54\\34\\fd47cd9b308826cc4292b54449c1899a30251ef3b506bc91ea\n",
      "  Building wheel for backcall (setup.py): started\n",
      "  Building wheel for backcall (setup.py): finished with status 'done'\n",
      "  Stored in directory: C:\\Users\\PairviewUser\\AppData\\Local\\pip\\Cache\\wheels\\98\\b0\\dd\\29e28ff615af3dda4c67cab719dd51357597eabff926976b45\n",
      "Successfully built jupyter-nbextensions-configurator jupyter-latex-envs prometheus-client backcall\n",
      "Installing collected packages: Send2Trash, prompt-toolkit, pickleshare, parso, jedi, backcall, ipython, ipykernel, prometheus-client, pywinpty, terminado, notebook, jupyter-contrib-core, jupyter-highlight-selected-word, jupyter-nbextensions-configurator, jupyter-latex-envs, jupyter-contrib-nbextensions\n",
      "Successfully installed Send2Trash-1.5.0 backcall-0.1.0 ipykernel-5.1.3 ipython-7.9.0 jedi-0.15.1 jupyter-contrib-core-0.3.3 jupyter-contrib-nbextensions-0.5.1 jupyter-highlight-selected-word-0.2.0 jupyter-latex-envs-1.4.6 jupyter-nbextensions-configurator-0.4.1 notebook-6.0.1 parso-0.5.1 pickleshare-0.7.5 prometheus-client-0.7.1 prompt-toolkit-2.0.10 pywinpty-0.5.5 terminado-0.8.2\n"
     ]
    },
    {
     "name": "stderr",
     "output_type": "stream",
     "text": [
      "You are using pip version 19.0.3, however version 19.3.1 is available.\n",
      "You should consider upgrading via the 'python -m pip install --upgrade pip' command.\n"
     ]
    }
   ],
   "source": [
    "!pip3 install jupyter_contrib_nbextensions\n",
    "!jupyter contrib nbextension install"
   ]
  },
  {
   "cell_type": "code",
   "execution_count": 1,
   "metadata": {
    "slideshow": {
     "slide_type": "skip"
    }
   },
   "outputs": [],
   "source": [
    "# !pip install RISE #one time-set up for creating Jupyter slideshows"
   ]
  },
  {
   "cell_type": "markdown",
   "metadata": {
    "slideshow": {
     "slide_type": "slide"
    }
   },
   "source": [
    "## Step 1: Describe the problem"
   ]
  },
  {
   "cell_type": "markdown",
   "metadata": {
    "slideshow": {
     "slide_type": "slide"
    }
   },
   "source": [
    "from https://ibmdecisionoptimization.github.io/tutorials/html/Scheduling_Tutorial.html"
   ]
  },
  {
   "cell_type": "markdown",
   "metadata": {
    "slideshow": {
     "slide_type": "slide"
    }
   },
   "source": [
    "The first step in modeling the problem is to write a natural language description of the problem, identifying the decision variables and the constraints on these variables.\n",
    "\n",
    "Writing a natural language description of this problem requires to answer these questions:\n",
    "\n",
    "- What is the known information in this problem ?\n",
    "- What are the decision variables or unknowns in this problem ?\n",
    "- What are the constraints on these variables ?\n",
    "- What is the objective ?\n",
    "\n",
    "_What is the known information in this problem ?_\n",
    "\n",
    "There are ten house building tasks, each with a given duration. For each task, there is a list of tasks that must be completed before the task can start. Some tasks also have costs associated with an early start date or late end date.\n",
    "\n",
    "_What are the decision variables or unknowns in this problem ?_\n",
    "\n",
    "The unknowns are the date that each task will start. The cost is determined by the assigned start dates.\n",
    "\n",
    "_What are the constraints on these variables ?_\n",
    "\n",
    "In this case, each constraint specifies that a particular task may not begin until one or more given tasks have been completed.\n",
    "\n",
    "_What is the objective ?_\n",
    "\n",
    "The objective is to minimize the cost incurred through earliness and tardiness costs."
   ]
  },
  {
   "cell_type": "markdown",
   "metadata": {
    "slideshow": {
     "slide_type": "slide"
    }
   },
   "source": [
    "## Step 2: Model Setup"
   ]
  },
  {
   "cell_type": "markdown",
   "metadata": {
    "slideshow": {
     "slide_type": "slide"
    }
   },
   "source": [
    "When using a cloud solving solution, the following attributes must be set with appropriate values:"
   ]
  },
  {
   "cell_type": "code",
   "execution_count": 2,
   "metadata": {
    "slideshow": {
     "slide_type": "slide"
    }
   },
   "outputs": [],
   "source": [
    "url = None\n",
    "key = None"
   ]
  },
  {
   "cell_type": "markdown",
   "metadata": {
    "slideshow": {
     "slide_type": "slide"
    }
   },
   "source": [
    "### Declaration of engine\n",
    "A scheduling model starts with the declaration of the engine as follows:"
   ]
  },
  {
   "cell_type": "code",
   "execution_count": 3,
   "metadata": {
    "slideshow": {
     "slide_type": "slide"
    }
   },
   "outputs": [],
   "source": [
    "# !pip install docplex #one time-set up"
   ]
  },
  {
   "cell_type": "code",
   "execution_count": 4,
   "metadata": {
    "slideshow": {
     "slide_type": "slide"
    }
   },
   "outputs": [],
   "source": [
    "import sys\n",
    "from docplex.cp.model import *"
   ]
  },
  {
   "cell_type": "code",
   "execution_count": 16,
   "metadata": {},
   "outputs": [
    {
     "name": "stdout",
     "output_type": "stream",
     "text": [
      "* system is: Windows 64bit\n",
      "* Python version 3.7.4, located at: C:\\Users\\PairviewUser\\Anaconda3\\python.exe\n",
      "* docplex is present, version is (2, 10, 155)\n",
      "* CPLEX library is present, version is 12.9.0.1, located at: C:\\Users\\PairviewUser\\Anaconda3\\lib\\site-packages\n",
      "* pandas is present, version is 0.25.1\n"
     ]
    }
   ],
   "source": [
    "#check environment\n",
    "\n",
    "from docplex.mp.environment import Environment\n",
    "env = Environment()\n",
    "env.print_information()"
   ]
  },
  {
   "cell_type": "code",
   "execution_count": 5,
   "metadata": {
    "slideshow": {
     "slide_type": "slide"
    }
   },
   "outputs": [],
   "source": [
    "# A scheduling model starts with the creation of the model container, as follows\n",
    "mdl1 = CpoModel()"
   ]
  },
  {
   "cell_type": "markdown",
   "metadata": {
    "slideshow": {
     "slide_type": "slide"
    }
   },
   "source": [
    "## Step 3: Declare the interval variables\n",
    "In the model, each task is represented by an interval variables. Each variable represents the unknown information, the scheduled interval for each activity. After the model is executed, the values assigned to these interval variables will represent the solution to the problem."
   ]
  },
  {
   "cell_type": "markdown",
   "metadata": {
    "slideshow": {
     "slide_type": "slide"
    }
   },
   "source": [
    "The declaration of necessary interval variables is done as follows:"
   ]
  },
  {
   "cell_type": "markdown",
   "metadata": {
    "slideshow": {
     "slide_type": "slide"
    }
   },
   "source": [
    "| Task | Duration | Preceding tasks |\n",
    "| --- | --- | --- |\n",
    "| masonry | 35 |  |\n",
    "| capentry | 15 | masonry |\n",
    "| COMPLETE THIS "
   ]
  },
  {
   "cell_type": "code",
   "execution_count": 6,
   "metadata": {
    "slideshow": {
     "slide_type": "slide"
    }
   },
   "outputs": [],
   "source": [
    "masonry = mdl1.interval_var(size=35)\n",
    "carpentry = mdl1.interval_var(size=15)\n",
    "plumbing = mdl1.interval_var(size=40)\n",
    "ceiling = mdl1.interval_var(size=15)\n",
    "roofing = mdl1.interval_var(size=5)\n",
    "painting = mdl1.interval_var(size=10)\n",
    "windows = mdl1.interval_var(size=5)\n",
    "facade = mdl1.interval_var(size=10)\n",
    "garden = mdl1.interval_var(size=5)\n",
    "moving = mdl1.interval_var(size=5)"
   ]
  },
  {
   "cell_type": "markdown",
   "metadata": {
    "slideshow": {
     "slide_type": "slide"
    }
   },
   "source": [
    "## Step 4: Add the precedence constraints"
   ]
  },
  {
   "cell_type": "markdown",
   "metadata": {
    "slideshow": {
     "slide_type": "slide"
    }
   },
   "source": [
    "In this example, certain tasks can start only after other tasks have been completed. CP Optimizer allows to express constraints involving temporal relationships between pairs of interval variables using precedence constraints.\n",
    "\n",
    "Precedence constraints are used to specify when an interval variable must start or end with respect to the start or end time of another interval variable.\n",
    "\n",
    "The following types of precedence constraints are available; if a and b denote interval variables, both interval variables are present, and delay is a number or integer expression (0 by default), then:\n",
    "\n",
    "end_before_end(a, b, delay) constrains at least the given delay to elapse between the end of a and the end of b. It imposes the inequality endTime(a) + delay <= endTime(b).\n",
    "end_before_start(a, b, delay) constrains at least the given delay to elapse between the end of a and the start of b. It imposes the inequality endTime(a) + delay <= startTime(b).\n",
    "end_at_end(a, b, delay) constrains the given delay to separate the end of a and the end of ab. It imposes the equality endTime(a) + delay == endTime(b).\n",
    "end_at_start(a, b, delay) constrains the given delay to separate the end of a and the start of b. It imposes the equality endTime(a) + delay == startTime(b).\n",
    "start_before_end(a, b, delay) constrains at least the given delay to elapse between the start of a and the end of b. It imposes the inequality startTime(a) + delay <= endTime(b).\n",
    "start_before_start(a, b, delay) constrains at least the given delay to elapse between the start of act1 and the start of act2. It imposes the inequality startTime(a) + delay <= startTime(b).\n",
    "start_at_end(a, b, delay) constrains the given delay to separate the start of a and the end of b. It imposes the equality startTime(a) + delay == endTime(b).\n",
    "start_at_start(a, b, delay) constrains the given delay to separate the start of a and the start of b. It imposes the equality startTime(a) + delay == startTime(b).\n",
    "If either interval a or b is not present in the solution, the constraint is automatically satisfied, and it is as if the constraint was never imposed.\n",
    "\n",
    "For our model, precedence constraints can be added with the following code:"
   ]
  },
  {
   "cell_type": "code",
   "execution_count": 7,
   "metadata": {
    "slideshow": {
     "slide_type": "slide"
    }
   },
   "outputs": [],
   "source": [
    "mdl1.add( mdl1.end_before_start(masonry, carpentry) )\n",
    "mdl1.add( mdl1.end_before_start(masonry, plumbing) )\n",
    "mdl1.add( mdl1.end_before_start(masonry, ceiling) )\n",
    "mdl1.add( mdl1.end_before_start(carpentry, roofing) )\n",
    "mdl1.add( mdl1.end_before_start(ceiling, painting) )\n",
    "mdl1.add( mdl1.end_before_start(roofing, windows) )\n",
    "mdl1.add( mdl1.end_before_start(roofing, facade) )\n",
    "mdl1.add( mdl1.end_before_start(plumbing, facade) )\n",
    "mdl1.add( mdl1.end_before_start(roofing, garden) )\n",
    "mdl1.add( mdl1.end_before_start(plumbing, garden) )\n",
    "mdl1.add( mdl1.end_before_start(windows, moving) )\n",
    "mdl1.add( mdl1.end_before_start(facade, moving) )\n",
    "mdl1.add( mdl1.end_before_start(garden, moving) )\n",
    "mdl1.add( mdl1.end_before_start(painting, moving) )"
   ]
  },
  {
   "cell_type": "markdown",
   "metadata": {
    "slideshow": {
     "slide_type": "slide"
    }
   },
   "source": [
    "## Step 5: Add the objective"
   ]
  },
  {
   "cell_type": "markdown",
   "metadata": {
    "slideshow": {
     "slide_type": "slide"
    }
   },
   "source": [
    "The objective function to be minimized can be written as follows:"
   ]
  },
  {
   "cell_type": "code",
   "execution_count": 8,
   "metadata": {
    "slideshow": {
     "slide_type": "slide"
    }
   },
   "outputs": [],
   "source": [
    "obj = mdl1.minimize(  400 * mdl1.max([mdl1.end_of(moving) - 100, 0]) \n",
    "                    + 200 * mdl1.max([25 - mdl1.start_of(masonry), 0]) \n",
    "                    + 300 * mdl1.max([75 - mdl1.start_of(carpentry), 0]) \n",
    "                    + 100 * mdl1.max([75 - mdl1.start_of(ceiling), 0]) )\n",
    "mdl1.add(obj)"
   ]
  },
  {
   "cell_type": "markdown",
   "metadata": {
    "slideshow": {
     "slide_type": "slide"
    }
   },
   "source": [
    "## Step 6: Solve the model and display the solution"
   ]
  },
  {
   "cell_type": "code",
   "execution_count": 9,
   "metadata": {
    "slideshow": {
     "slide_type": "slide"
    }
   },
   "outputs": [
    {
     "name": "stdout",
     "output_type": "stream",
     "text": [
      "\n",
      "Solving model....\n",
      "done\n"
     ]
    }
   ],
   "source": [
    "# Solve the model\n",
    "print(\"\\nSolving model....\")\n",
    "msol1 = mdl1.solve(url=url, key=key, TimeLimit=20)\n",
    "print(\"done\")"
   ]
  },
  {
   "cell_type": "code",
   "execution_count": 10,
   "metadata": {
    "slideshow": {
     "slide_type": "slide"
    }
   },
   "outputs": [
    {
     "name": "stdout",
     "output_type": "stream",
     "text": [
      "Cost will be 5000\n"
     ]
    }
   ],
   "source": [
    "print(\"Cost will be \" + str(msol1.get_objective_values()[0]))"
   ]
  },
  {
   "cell_type": "code",
   "execution_count": 11,
   "metadata": {
    "slideshow": {
     "slide_type": "slide"
    }
   },
   "outputs": [
    {
     "name": "stdout",
     "output_type": "stream",
     "text": [
      "Masonry : 20..55\n",
      "Carpentry : 75..90\n",
      "Plumbing : 55..95\n",
      "Ceiling : 75..90\n",
      "Roofing : 90..95\n",
      "Painting : 90..100\n",
      "Windows : 95..100\n",
      "Facade : 95..105\n",
      "Moving : 105..110\n"
     ]
    }
   ],
   "source": [
    "var_sol = msol1.get_var_solution(masonry)\n",
    "print(\"Masonry : {}..{}\".format(var_sol.get_start(), var_sol.get_end()))\n",
    "var_sol = msol1.get_var_solution(carpentry)\n",
    "print(\"Carpentry : {}..{}\".format(var_sol.get_start(), var_sol.get_end()))\n",
    "var_sol = msol1.get_var_solution(plumbing)\n",
    "print(\"Plumbing : {}..{}\".format(var_sol.get_start(), var_sol.get_end()))\n",
    "var_sol = msol1.get_var_solution(ceiling)\n",
    "print(\"Ceiling : {}..{}\".format(var_sol.get_start(), var_sol.get_end()))\n",
    "var_sol = msol1.get_var_solution(roofing)\n",
    "print(\"Roofing : {}..{}\".format(var_sol.get_start(), var_sol.get_end()))\n",
    "var_sol = msol1.get_var_solution(painting)\n",
    "print(\"Painting : {}..{}\".format(var_sol.get_start(), var_sol.get_end()))\n",
    "var_sol = msol1.get_var_solution(windows)\n",
    "print(\"Windows : {}..{}\".format(var_sol.get_start(), var_sol.get_end()))\n",
    "var_sol = msol1.get_var_solution(facade)\n",
    "print(\"Facade : {}..{}\".format(var_sol.get_start(), var_sol.get_end()))\n",
    "var_sol = msol1.get_var_solution(moving)\n",
    "print(\"Moving : {}..{}\".format(var_sol.get_start(), var_sol.get_end()))"
   ]
  },
  {
   "cell_type": "markdown",
   "metadata": {
    "slideshow": {
     "slide_type": "slide"
    }
   },
   "source": [
    "Graphical display of the same result is available with:"
   ]
  },
  {
   "cell_type": "code",
   "execution_count": 14,
   "metadata": {
    "slideshow": {
     "slide_type": "slide"
    }
   },
   "outputs": [],
   "source": [
    "#setting up graphical display\n",
    "import docplex.cp.utils_visu as visu\n",
    "import matplotlib.pyplot as plt\n",
    "%matplotlib inline\n",
    "#Change the plot size\n",
    "from pylab import rcParams\n",
    "rcParams['figure.figsize'] = 15, 3"
   ]
  },
  {
   "cell_type": "code",
   "execution_count": 15,
   "metadata": {
    "slideshow": {
     "slide_type": "slide"
    }
   },
   "outputs": [
    {
     "data": {
      "image/png": "[encoded data removed]",
      "text/plain": [
       "<Figure size 1080x216 with 1 Axes>"
      ]
     },
     "metadata": {
      "needs_background": "light"
     },
     "output_type": "display_data"
    }
   ],
   "source": [
    "wt = msol1.get_var_solution(masonry)   \n",
    "visu.interval(wt, 'lightblue', 'masonry')   \n",
    "wt = msol1.get_var_solution(carpentry)   \n",
    "visu.interval(wt, 'lightblue', 'carpentry')\n",
    "wt = msol1.get_var_solution(plumbing)   \n",
    "visu.interval(wt, 'lightblue', 'plumbing')\n",
    "wt = msol1.get_var_solution(ceiling)   \n",
    "visu.interval(wt, 'lightblue', 'ceiling')\n",
    "wt = msol1.get_var_solution(roofing)   \n",
    "visu.interval(wt, 'lightblue', 'roofing')\n",
    "wt = msol1.get_var_solution(painting)   \n",
    "visu.interval(wt, 'lightblue', 'painting')\n",
    "wt = msol1.get_var_solution(windows)   \n",
    "visu.interval(wt, 'lightblue', 'windows')\n",
    "wt = msol1.get_var_solution(facade)   \n",
    "visu.interval(wt, 'lightblue', 'facade')\n",
    "wt = msol1.get_var_solution(moving)   \n",
    "visu.interval(wt, 'lightblue', 'moving')\n",
    "visu.show()"
   ]
  },
  {
   "cell_type": "markdown",
   "metadata": {
    "slideshow": {
     "slide_type": "slide"
    }
   },
   "source": [
    "The overall cost is 5000 and moving will be completed by day 110."
   ]
  }
 ],
 "metadata": {
  "celltoolbar": "Slideshow",
  "kernelspec": {
   "display_name": "Python 3",
   "language": "python",
   "name": "python3"
  },
  "language_info": {
   "codemirror_mode": {
    "name": "ipython",
    "version": 3
   },
   "file_extension": ".py",
   "mimetype": "text/x-python",
   "name": "python",
   "nbconvert_exporter": "python",
   "pygments_lexer": "ipython3",
   "version": "3.7.4"
  },
  "rise": {
   "autolaunch": true
  }
 },
 "nbformat": 4,
 "nbformat_minor": 2
}
